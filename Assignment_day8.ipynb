{
  "nbformat": 4,
  "nbformat_minor": 0,
  "metadata": {
    "colab": {
      "name": "Assignment day8.ipynb",
      "provenance": [],
      "collapsed_sections": []
    },
    "kernelspec": {
      "name": "python3",
      "display_name": "Python 3"
    }
  },
  "cells": [
    {
      "cell_type": "code",
      "metadata": {
        "id": "K5KOhTyoF2-g",
        "colab_type": "code",
        "colab": {}
      },
      "source": [
        "#DECORATORS\n",
        "\n",
        "\n",
        "def Fibo(functionwrap):\n",
        "  def wrap_function():\n",
        "    print(\"Hello, We are using decorators\")\n",
        "    num = int(input(\"Enter the th range to find fibonacci series - \"))\n",
        "    functionwrap(num)\n",
        "  return wrap_function()\n",
        "\n"
      ],
      "execution_count": null,
      "outputs": []
    },
    {
      "cell_type": "code",
      "metadata": {
        "id": "W6YKXEiOHvKG",
        "colab_type": "code",
        "colab": {
          "base_uri": "https://localhost:8080/",
          "height": 68
        },
        "outputId": "d46f08af-b9d6-4415-8fad-4889ce08386e"
      },
      "source": [
        "@Fibo\n",
        "\n",
        "def fibonacciseries(num):\n",
        "  lst = [1,1]\n",
        "  for i in range(2,num):\n",
        "      a = lst[i-1] + lst[i-2]\n",
        "      lst.append(a)\n",
        "  print(\"Fibonacci series - \" , lst)\n"
      ],
      "execution_count": 18,
      "outputs": [
        {
          "output_type": "stream",
          "text": [
            "Hello, We are using decorators\n",
            "Enter the th range to find fibonacci series - 10\n",
            "Fibonacci series -  [1, 1, 2, 3, 5, 8, 13, 21, 34, 55]\n"
          ],
          "name": "stdout"
        }
      ]
    },
    {
      "cell_type": "code",
      "metadata": {
        "id": "8yFMYuHSNfMA",
        "colab_type": "code",
        "colab": {
          "base_uri": "https://localhost:8080/",
          "height": 34
        },
        "outputId": "c2112e78-30ed-4fd7-b8c4-03b9c781ddf4"
      },
      "source": [
        "#exception handling\n",
        "\n",
        "try:\n",
        "\n",
        "  file = open(\"iyer.txt\", \"r\")\n",
        "  file.write(\"Hello this is exception handling assignment\")\n",
        "  file.close()\n",
        "  print(\"Successfuly edited\")\n",
        "except :\n",
        "    print(\"Hey the file is not writable\")"
      ],
      "execution_count": 20,
      "outputs": [
        {
          "output_type": "stream",
          "text": [
            "Hey the file is not writable\n"
          ],
          "name": "stdout"
        }
      ]
    }
  ]
}