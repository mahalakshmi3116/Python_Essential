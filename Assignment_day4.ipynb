{
  "nbformat": 4,
  "nbformat_minor": 0,
  "metadata": {
    "colab": {
      "name": "Assignment_day4.ipynb",
      "provenance": []
    },
    "kernelspec": {
      "name": "python3",
      "display_name": "Python 3"
    }
  },
  "cells": [
    {
      "cell_type": "code",
      "metadata": {
        "id": "nOQ6zxgnLDXv",
        "colab_type": "code",
        "colab": {
          "base_uri": "https://localhost:8080/",
          "height": 34
        },
        "outputId": "a2c63aa8-08d8-47f6-93cb-99f792a51acb"
      },
      "source": [
        "\n",
        "\n",
        "for num in range(300, 400):\n",
        "    sum = 0\n",
        "    tmp = num\n",
        "    while tmp>0:\n",
        "        digit = tmp%10\n",
        "        sum += digit**3\n",
        "        tmp = int(tmp/10)\n",
        "    if (sum == num):\n",
        "     print(num, ' is a firstamstrong number in the given range')\n",
        "     break\n"
      ],
      "execution_count": 11,
      "outputs": [
        {
          "output_type": "stream",
          "text": [
            "370  is a firstamstrong number in the given range\n"
          ],
          "name": "stdout"
        }
      ]
    }
  ]
}