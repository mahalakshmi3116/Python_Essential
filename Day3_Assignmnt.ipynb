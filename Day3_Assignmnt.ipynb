{
  "nbformat": 4,
  "nbformat_minor": 0,
  "metadata": {
    "colab": {
      "name": "Day3_Assignmnt.ipynb",
      "provenance": []
    },
    "kernelspec": {
      "name": "python3",
      "display_name": "Python 3"
    }
  },
  "cells": [
    {
      "cell_type": "code",
      "metadata": {
        "id": "9dGFSbCp2MVS",
        "colab_type": "code",
        "colab": {
          "base_uri": "https://localhost:8080/",
          "height": 51
        },
        "outputId": "0ca80912-68d2-4c51-e131-718a88e472af"
      },
      "source": [
        "#Pilot Assignment \n",
        "for altitude in range(1000,10000):\n",
        "  altitude = int(input('Enter the altitude -'))\n",
        "  if altitude == 1000:\n",
        "    print('Safe to land')\n",
        "    break\n",
        "  elif altitude > 1000 and altitude <= 5000:\n",
        "    print('Bring down the altitdue down')\n",
        "    break\n",
        "  elif altitude > 5000 and altitude < 10000:\n",
        "    print('Turn Around')\n",
        "    break\n",
        "else:\n",
        "  print('Enter correct number')"
      ],
      "execution_count": 12,
      "outputs": [
        {
          "output_type": "stream",
          "text": [
            "Enter the altitude -2000\n",
            "Bring down the altitdue down\n"
          ],
          "name": "stdout"
        }
      ]
    },
    {
      "cell_type": "code",
      "metadata": {
        "id": "rV_VZb1v78c9",
        "colab_type": "code",
        "colab": {
          "base_uri": "https://localhost:8080/",
          "height": 119
        },
        "outputId": "286cd81b-bd67-4af5-d2f2-d7d9721fbd8c"
      },
      "source": [
        "# For loop and range - Prime numbers\n",
        "\n",
        "\n",
        "for num1 in range(1,15):\n",
        "  if num1 > 1 :\n",
        "    for i in range(2, num1):\n",
        "        if (num1 % i) == 0:\n",
        "           break\n",
        "    else:\n",
        "     print(num1)\n",
        "         \n",
        "        \n",
        "  "
      ],
      "execution_count": 43,
      "outputs": [
        {
          "output_type": "stream",
          "text": [
            "2\n",
            "3\n",
            "5\n",
            "7\n",
            "11\n",
            "13\n"
          ],
          "name": "stdout"
        }
      ]
    }
  ]
}