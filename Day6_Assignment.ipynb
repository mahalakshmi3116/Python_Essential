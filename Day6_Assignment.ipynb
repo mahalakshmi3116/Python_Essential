{
  "nbformat": 4,
  "nbformat_minor": 0,
  "metadata": {
    "colab": {
      "name": "Day6 Assignment.ipynb",
      "provenance": []
    },
    "kernelspec": {
      "name": "python3",
      "display_name": "Python 3"
    }
  },
  "cells": [
    {
      "cell_type": "code",
      "metadata": {
        "id": "1-MlAFY8UM_B",
        "colab_type": "code",
        "colab": {
          "base_uri": "https://localhost:8080/",
          "height": 204
        },
        "outputId": "0cc50706-16c7-4290-93b6-7148c73198c0"
      },
      "source": [
        "class bankaccount():\n",
        "   def __init__(self):\n",
        "     \n",
        "     self.bal = 0\n",
        "    \n",
        "     print(\"hey welcome to abc bank\")\n",
        "     self.owner = input('Hey enter your name:- ')\n",
        "  \n",
        "\n",
        "   def deposit(self):\n",
        "      amt = int(input('enter the amount you want to deposit-'))\n",
        "      self.bal += amt\n",
        "      print( 'Hey ',self.owner,' Your account balance is ',self.bal )\n",
        "   \n",
        "   def withdraw(self): \n",
        "      withdw = int(input(\"enter withdraw amount \"))\n",
        "      int(withdw)\n",
        "      if withdw>self.bal:\n",
        "         print(\"Hey\" , self.owner, \"you have less amount to with draw\")\n",
        "      else:\n",
        "        self.bal -= withdw\n",
        "        print(\"Your balance is \", self.bal)\n",
        "\n",
        "   def display(self): \n",
        "      print(\" Net Available Balance=\",self.bal) \n",
        "\n",
        "\n",
        "acc = bankaccount()\n",
        "\n",
        "trans = 'Y'\n",
        "while trans == 'Y':\n",
        "  trans = input(\"Do you want to continue, Y/N \")\n",
        "  if trans == 'N':\n",
        "    break\n",
        "  else:\n",
        "    ans = input('Do you want to deposit? - y/n') \n",
        "    if ans == 'y':\n",
        "      acc.deposit()\n",
        "      continue\n",
        "        \n",
        "    elif ans == 'n':\n",
        "      acc.withdraw()\n",
        "      continue\n",
        "\n",
        "    else:\n",
        "      acc.display\n",
        "      print(\"Enter the right value\")\n",
        "      continue\n",
        "  \n",
        "\n"
      ],
      "execution_count": 41,
      "outputs": [
        {
          "output_type": "stream",
          "text": [
            "hey welcome to abc bank\n",
            "Hey enter your name:- hgf\n",
            "Do you want to continue, Y/N Y\n",
            "Do you want to deposit? - y/ny\n",
            "enter the amount you want to deposit-12445555\n",
            "Hey  hgf  Your account balance is  12445555\n",
            "Do you want to continue, Y/N Y\n",
            "Do you want to deposit? - y/nn\n",
            "enter withdraw amount 500\n",
            "Your balance is  12445055\n",
            "Do you want to continue, Y/N N\n"
          ],
          "name": "stdout"
        }
      ]
    },
    {
      "cell_type": "code",
      "metadata": {
        "id": "ZXcVo1y5rELw",
        "colab_type": "code",
        "colab": {
          "base_uri": "https://localhost:8080/",
          "height": 85
        },
        "outputId": "b86062c8-3395-4d27-cef3-4b1bfd3e0cd1"
      },
      "source": [
        "\n",
        "import math \n",
        "class Cone():\n",
        "  def __init__(self): \n",
        "    self.r =0\n",
        "    self.h = 0\n",
        "    self.pi = math.pi\n",
        "\n",
        "  def volume(self):\n",
        "      self.r = float(input('Please enter radius '))\n",
        "      self.h = float(input(\"Please enter height \"))\n",
        "      vol = (self.pi*self.r*self.r*self.h)/3\n",
        "      print(\"Volume of cone \", vol)\n",
        "\n",
        "  def surfacearea(self):\n",
        "      self.r = float(input('Please enter radius '))\n",
        "      self.h = float(input(\"Please enter height \"))\n",
        "      base = float(self.pi* self.r**2)\n",
        "      s = float((self.r**2+self.h**2)**1/2)\n",
        "      side = self.pi* self.r * s\n",
        "      area = float(base + side)\n",
        "      print(\"Surface area of cone \", area)\n",
        "\n",
        "\n",
        "c = Cone()\n",
        "enter = input('hey do you want to find area/Vol, a/v')\n",
        "if enter == 'a':\n",
        "  c.surfacearea()\n",
        "else:\n",
        "  c.volume()\n"
      ],
      "execution_count": 50,
      "outputs": [
        {
          "output_type": "stream",
          "text": [
            "hey do you want to find area/Vol, a/va\n",
            "Please enter radius 10\n",
            "Please enter height 12\n",
            "Surface area of cone  4146.902302738527\n"
          ],
          "name": "stdout"
        }
      ]
    }
  ]
}