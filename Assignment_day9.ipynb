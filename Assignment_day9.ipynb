{
  "nbformat": 4,
  "nbformat_minor": 0,
  "metadata": {
    "colab": {
      "name": "Assignment_day9.ipynb",
      "provenance": [],
      "collapsed_sections": []
    },
    "kernelspec": {
      "name": "python3",
      "display_name": "Python 3"
    }
  },
  "cells": [
    {
      "cell_type": "code",
      "metadata": {
        "id": "BzOeCih3P00Q",
        "colab_type": "code",
        "colab": {
          "base_uri": "https://localhost:8080/",
          "height": 411
        },
        "outputId": "7d14c97e-7edc-4573-a7d6-b6f29d20bea5"
      },
      "source": [
        "#pylint and unittest lib\n",
        "\n",
        "\n",
        "! pip install pylint"
      ],
      "execution_count": 1,
      "outputs": [
        {
          "output_type": "stream",
          "text": [
            "Collecting pylint\n",
            "\u001b[?25l  Downloading https://files.pythonhosted.org/packages/fb/13/519c1264a134beab2be4bac8dd3e64948980a5ca7833b31cf0255b21f20a/pylint-2.6.0-py3-none-any.whl (325kB)\n",
            "\u001b[K     |████████████████████████████████| 327kB 3.4MB/s \n",
            "\u001b[?25hCollecting isort<6,>=4.2.5\n",
            "\u001b[?25l  Downloading https://files.pythonhosted.org/packages/d1/25/7ed95ccb07d3ce52598f5a57d002da6a18074ea8749991b10936cc20e539/isort-5.5.2-py3-none-any.whl (95kB)\n",
            "\u001b[K     |████████████████████████████████| 102kB 7.7MB/s \n",
            "\u001b[?25hRequirement already satisfied: toml>=0.7.1 in /usr/local/lib/python3.6/dist-packages (from pylint) (0.10.1)\n",
            "Collecting mccabe<0.7,>=0.6\n",
            "  Downloading https://files.pythonhosted.org/packages/87/89/479dc97e18549e21354893e4ee4ef36db1d237534982482c3681ee6e7b57/mccabe-0.6.1-py2.py3-none-any.whl\n",
            "Collecting astroid<=2.5,>=2.4.0\n",
            "\u001b[?25l  Downloading https://files.pythonhosted.org/packages/24/a8/5133f51967fb21e46ee50831c3f5dda49e976b7f915408d670b1603d41d6/astroid-2.4.2-py3-none-any.whl (213kB)\n",
            "\u001b[K     |████████████████████████████████| 215kB 9.0MB/s \n",
            "\u001b[?25hRequirement already satisfied: six~=1.12 in /usr/local/lib/python3.6/dist-packages (from astroid<=2.5,>=2.4.0->pylint) (1.15.0)\n",
            "Collecting lazy-object-proxy==1.4.*\n",
            "\u001b[?25l  Downloading https://files.pythonhosted.org/packages/0b/dd/b1e3407e9e6913cf178e506cd0dee818e58694d9a5cd1984e3f6a8b9a10f/lazy_object_proxy-1.4.3-cp36-cp36m-manylinux1_x86_64.whl (55kB)\n",
            "\u001b[K     |████████████████████████████████| 61kB 5.8MB/s \n",
            "\u001b[?25hCollecting typed-ast<1.5,>=1.4.0; implementation_name == \"cpython\" and python_version < \"3.8\"\n",
            "\u001b[?25l  Downloading https://files.pythonhosted.org/packages/90/ed/5459080d95eb87a02fe860d447197be63b6e2b5e9ff73c2b0a85622994f4/typed_ast-1.4.1-cp36-cp36m-manylinux1_x86_64.whl (737kB)\n",
            "\u001b[K     |████████████████████████████████| 747kB 14.5MB/s \n",
            "\u001b[?25hRequirement already satisfied: wrapt~=1.11 in /usr/local/lib/python3.6/dist-packages (from astroid<=2.5,>=2.4.0->pylint) (1.12.1)\n",
            "Installing collected packages: isort, mccabe, lazy-object-proxy, typed-ast, astroid, pylint\n",
            "Successfully installed astroid-2.4.2 isort-5.5.2 lazy-object-proxy-1.4.3 mccabe-0.6.1 pylint-2.6.0 typed-ast-1.4.1\n"
          ],
          "name": "stdout"
        }
      ]
    },
    {
      "cell_type": "code",
      "metadata": {
        "id": "nM6AuhTvWM9H",
        "colab_type": "code",
        "colab": {
          "base_uri": "https://localhost:8080/",
          "height": 122
        },
        "outputId": "60c6572a-9083-4745-a68d-a559dfbfd79f"
      },
      "source": [
        "! pip install pycodestyle"
      ],
      "execution_count": 52,
      "outputs": [
        {
          "output_type": "stream",
          "text": [
            "Collecting pycodestyle\n",
            "\u001b[?25l  Downloading https://files.pythonhosted.org/packages/10/5b/88879fb861ab79aef45c7e199cae3ef7af487b5603dcb363517a50602dd7/pycodestyle-2.6.0-py2.py3-none-any.whl (41kB)\n",
            "\r\u001b[K     |████████                        | 10kB 10.3MB/s eta 0:00:01\r\u001b[K     |███████████████▉                | 20kB 2.1MB/s eta 0:00:01\r\u001b[K     |███████████████████████▊        | 30kB 2.8MB/s eta 0:00:01\r\u001b[K     |███████████████████████████████▊| 40kB 3.1MB/s eta 0:00:01\r\u001b[K     |████████████████████████████████| 51kB 2.4MB/s \n",
            "\u001b[?25hInstalling collected packages: pycodestyle\n",
            "Successfully installed pycodestyle-2.6.0\n"
          ],
          "name": "stdout"
        }
      ]
    },
    {
      "cell_type": "code",
      "metadata": {
        "id": "B9yEI7C1QWs3",
        "colab_type": "code",
        "colab": {
          "base_uri": "https://localhost:8080/",
          "height": 34
        },
        "outputId": "620b3555-f9a1-478e-fe2b-7de63c7e69e8"
      },
      "source": [
        "%%writefile primenumbers.py\n",
        "'''\n",
        "Hey this is a Simple prime function\n",
        "'''\n",
        "N=5\n",
        "for i in range(2,N):\n",
        " if N%i==0:\n",
        "  print(\"is not prime\")\n",
        " else:\n",
        "  print(\"is prime\")\n",
        " "
      ],
      "execution_count": 109,
      "outputs": [
        {
          "output_type": "stream",
          "text": [
            "Overwriting primenumbers.py\n"
          ],
          "name": "stdout"
        }
      ]
    },
    {
      "cell_type": "code",
      "metadata": {
        "id": "R63WtJM_QxQP",
        "colab_type": "code",
        "colab": {
          "base_uri": "https://localhost:8080/",
          "height": 170
        },
        "outputId": "9c5cc5f8-bb74-4554-a1e4-61a47395cb6d"
      },
      "source": [
        "! pylint \"primenumbers.py\""
      ],
      "execution_count": 110,
      "outputs": [
        {
          "output_type": "stream",
          "text": [
            "************* Module primenumbers\n",
            "primenumbers.py:6:0: W0311: Bad indentation. Found 1 spaces, expected 4 (bad-indentation)\n",
            "primenumbers.py:7:0: W0311: Bad indentation. Found 2 spaces, expected 8 (bad-indentation)\n",
            "primenumbers.py:8:0: W0311: Bad indentation. Found 1 spaces, expected 4 (bad-indentation)\n",
            "primenumbers.py:9:0: W0311: Bad indentation. Found 2 spaces, expected 8 (bad-indentation)\n",
            "\n",
            "-------------------------------------------------------------------\n",
            "Your code has been rated at 2.00/10 (previous run: -5.00/10, +7.00)\n",
            "\n"
          ],
          "name": "stdout"
        }
      ]
    },
    {
      "cell_type": "code",
      "metadata": {
        "id": "RcTR9X1Kb2o2",
        "colab_type": "code",
        "colab": {
          "base_uri": "https://localhost:8080/",
          "height": 34
        },
        "outputId": "075d0807-f7b2-4f98-a893-9c618069c7da"
      },
      "source": [
        "%%writefile testprime.py\n",
        "\n",
        "import unittest\n",
        "import primenumbers\n",
        "\n",
        "class testprime(unittest.TestCase):\n",
        "  def test(self):\n",
        "    result = primenumbers()\n",
        "    self.assertEquals(result, \"is prime\")"
      ],
      "execution_count": 111,
      "outputs": [
        {
          "output_type": "stream",
          "text": [
            "Writing testprime.py\n"
          ],
          "name": "stdout"
        }
      ]
    },
    {
      "cell_type": "code",
      "metadata": {
        "id": "GRPpWh-Hdwym",
        "colab_type": "code",
        "colab": {
          "base_uri": "https://localhost:8080/",
          "height": 68
        },
        "outputId": "74855a61-fe0c-4533-c4ff-34d027844ae6"
      },
      "source": [
        "\n",
        "! python testprime.py"
      ],
      "execution_count": 112,
      "outputs": [
        {
          "output_type": "stream",
          "text": [
            "is prime\n",
            "is prime\n",
            "is prime\n"
          ],
          "name": "stdout"
        }
      ]
    },
    {
      "cell_type": "code",
      "metadata": {
        "id": "ACCjTd36eBqr",
        "colab_type": "code",
        "colab": {}
      },
      "source": [
        "#GENERATOR\n",
        "lst = list(range(1000))\n",
        "def amstrong(lst):\n",
        " for num in lst:\n",
        "    sum = 0\n",
        "    tmp = num\n",
        "    while tmp>0:\n",
        "        digit = tmp%10\n",
        "        sum += digit**3\n",
        "        tmp = int(tmp/10)\n",
        "    if (sum == num):\n",
        "     yield num\n",
        "   \n",
        "\n"
      ],
      "execution_count": 133,
      "outputs": []
    },
    {
      "cell_type": "code",
      "metadata": {
        "id": "2N_R32CUfkA2",
        "colab_type": "code",
        "colab": {
          "base_uri": "https://localhost:8080/",
          "height": 34
        },
        "outputId": "e5948486-d3eb-4bd6-d542-6001bec16ac2"
      },
      "source": [
        "print(list(amstrong(lst)))\n"
      ],
      "execution_count": 134,
      "outputs": [
        {
          "output_type": "stream",
          "text": [
            "[0, 1, 153, 370, 371, 407]\n"
          ],
          "name": "stdout"
        }
      ]
    }
  ]
}